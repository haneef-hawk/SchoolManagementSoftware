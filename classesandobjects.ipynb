{
  "nbformat": 4,
  "nbformat_minor": 0,
  "metadata": {
    "colab": {
      "provenance": [],
      "authorship_tag": "ABX9TyMbaNWAUIcnmy+Ur7YOVBAg",
      "include_colab_link": true
    },
    "kernelspec": {
      "name": "python3",
      "display_name": "Python 3"
    },
    "language_info": {
      "name": "python"
    }
  },
  "cells": [
    {
      "cell_type": "markdown",
      "metadata": {
        "id": "view-in-github",
        "colab_type": "text"
      },
      "source": [
        "<a href=\"https://colab.research.google.com/github/haneef-hawk/SchoolManagementSoftware/blob/master/classesandobjects.ipynb\" target=\"_parent\"><img src=\"https://colab.research.google.com/assets/colab-badge.svg\" alt=\"Open In Colab\"/></a>"
      ]
    },
    {
      "cell_type": "markdown",
      "source": [
        "# Classes and Objects"
      ],
      "metadata": {
        "id": "e-4aJEhMxt-E"
      }
    },
    {
      "cell_type": "markdown",
      "source": [
        "A simple class example"
      ],
      "metadata": {
        "id": "ukJYHNgDB-9L"
      }
    },
    {
      "cell_type": "code",
      "source": [
        "class Point:\n",
        "  def draw(self):\n",
        "    print(\"Drawing a point on x,y\")\n",
        "\n",
        "point = Point()\n",
        "print(point.draw())"
      ],
      "metadata": {
        "colab": {
          "base_uri": "https://localhost:8080/"
        },
        "id": "PB9Owr1Oxgrb",
        "outputId": "7a4242a4-efe9-4d8b-e0b7-bfb219d3b06f"
      },
      "execution_count": 3,
      "outputs": [
        {
          "output_type": "stream",
          "name": "stdout",
          "text": [
            "Drawing a point on x,y\n",
            "None\n"
          ]
        }
      ]
    }
  ]
}